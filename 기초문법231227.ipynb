{
  "nbformat": 4,
  "nbformat_minor": 0,
  "metadata": {
    "colab": {
      "provenance": [],
      "authorship_tag": "ABX9TyNufddVAhz4HjOGEdQV3I9n",
      "include_colab_link": true
    },
    "kernelspec": {
      "name": "python3",
      "display_name": "Python 3"
    },
    "language_info": {
      "name": "python"
    }
  },
  "cells": [
    {
      "cell_type": "markdown",
      "metadata": {
        "id": "view-in-github",
        "colab_type": "text"
      },
      "source": [
        "<a href=\"https://colab.research.google.com/github/ms2063/mulcamp34/blob/main/%EA%B8%B0%EC%B4%88%EB%AC%B8%EB%B2%95231227.ipynb\" target=\"_parent\"><img src=\"https://colab.research.google.com/assets/colab-badge.svg\" alt=\"Open In Colab\"/></a>"
      ]
    },
    {
      "cell_type": "markdown",
      "source": [
        "# Chapter 3 파이썬을 계산기처럼\n"
      ],
      "metadata": {
        "id": "1g-KvlkhpV9Y"
      }
    },
    {
      "cell_type": "code",
      "execution_count": 4,
      "metadata": {
        "colab": {
          "base_uri": "https://localhost:8080/"
        },
        "id": "2MbR4Umxn60a",
        "outputId": "155533fb-6516-461f-e66a-a0bbe9259ff0"
      },
      "outputs": [
        {
          "output_type": "execute_result",
          "data": {
            "text/plain": [
              "2"
            ]
          },
          "metadata": {},
          "execution_count": 4
        }
      ],
      "source": [
        "# 덧셈\n",
        "1+1"
      ]
    },
    {
      "cell_type": "code",
      "source": [
        "#뺄셈\n",
        "5-2"
      ],
      "metadata": {
        "id": "QxWewbuZrn3_"
      },
      "execution_count": 10,
      "outputs": []
    },
    {
      "cell_type": "code",
      "source": [
        "#곱셈\n",
        "5*2"
      ],
      "metadata": {
        "colab": {
          "base_uri": "https://localhost:8080/"
        },
        "id": "DS06RPc7rrwC",
        "outputId": "10aa329f-0d5f-4e73-d2f1-8a86ff0b6671"
      },
      "execution_count": 9,
      "outputs": [
        {
          "output_type": "execute_result",
          "data": {
            "text/plain": [
              "10"
            ]
          },
          "metadata": {},
          "execution_count": 9
        }
      ]
    },
    {
      "cell_type": "code",
      "source": [
        "#나눗셈\n",
        "#Python 3.x 버전은 실수로 처리\n",
        "#Python 2.x 버전은 정수로 처리\n",
        "10/2  # 정수 / 정수 ==> 반환값은 실수형으로 반환\n"
      ],
      "metadata": {
        "id": "gI7Rqib4ruUG"
      },
      "execution_count": null,
      "outputs": []
    },
    {
      "cell_type": "markdown",
      "source": [
        "- 실수연산"
      ],
      "metadata": {
        "id": "1CpujIGjsTOg"
      }
    },
    {
      "cell_type": "code",
      "source": [
        "print(1.2 + 5.2) # 덧셈\n",
        "print(1.2 - 5.2) # 뺄셈\n",
        "print(1.2 * 5.2) # 곱셈\n",
        "print(5.2 / 1.2) # 나눗셈"
      ],
      "metadata": {
        "colab": {
          "base_uri": "https://localhost:8080/"
        },
        "id": "-xDO1u01sVlT",
        "outputId": "d4dc3439-4c6a-4d87-f0cf-41adbbcbff0a"
      },
      "execution_count": 13,
      "outputs": [
        {
          "output_type": "stream",
          "name": "stdout",
          "text": [
            "6.4\n",
            "-4.0\n",
            "6.24\n",
            "4.333333333333334\n"
          ]
        }
      ]
    },
    {
      "cell_type": "markdown",
      "source": [
        "## 연산규칙\n",
        "- (1) 괄호안 계산\n",
        "- (2) 지수 계산\n",
        "- (3) 곱셈과 나눗셈 계산\n",
        "- (4) 덧셈과 뺄셈 계산\n",
        "- (5) 같은 순위 연산이면, 왼쪽에서 오른쪽으로\n",
        "- (6) 중복된 괄호가 있을 경우, 안쪽에서부터 처리"
      ],
      "metadata": {
        "id": "sop3zPk0tWYI"
      }
    },
    {
      "cell_type": "code",
      "source": [
        "print(2 + 3 * 4)"
      ],
      "metadata": {
        "colab": {
          "base_uri": "https://localhost:8080/"
        },
        "id": "dD15ftijtEmh",
        "outputId": "d5cd219e-ec4d-476e-d37f-d469c4572213"
      },
      "execution_count": 15,
      "outputs": [
        {
          "output_type": "stream",
          "name": "stdout",
          "text": [
            "14\n"
          ]
        }
      ]
    },
    {
      "cell_type": "code",
      "source": [
        "print(3/2*4-5/2)"
      ],
      "metadata": {
        "colab": {
          "base_uri": "https://localhost:8080/"
        },
        "id": "0o91ll-lt-yf",
        "outputId": "4b4bcc57-2e46-48bf-a418-59d5bb37449d"
      },
      "execution_count": 16,
      "outputs": [
        {
          "output_type": "stream",
          "name": "stdout",
          "text": [
            "3.5\n"
          ]
        }
      ]
    },
    {
      "cell_type": "code",
      "source": [
        "print((5*4-15)+((5-2)*(9-7)))"
      ],
      "metadata": {
        "colab": {
          "base_uri": "https://localhost:8080/"
        },
        "id": "o_L5AWFGuCVp",
        "outputId": "a8978f6d-e440-41a7-8a2a-269e362bac1b"
      },
      "execution_count": 17,
      "outputs": [
        {
          "output_type": "stream",
          "name": "stdout",
          "text": [
            "11\n"
          ]
        }
      ]
    },
    {
      "cell_type": "markdown",
      "source": [
        "## type()\n",
        "- 함수 : 특정 기능을 수행하도록 만든 매직박스\n",
        "  + 특정함수를 조건만 맞춰주면 동작"
      ],
      "metadata": {
        "id": "K9YkhY5XuzXJ"
      }
    },
    {
      "cell_type": "markdown",
      "source": [
        "함수의 종류\n",
        "- 내장(built-in)함수 : 파이썬 설치와 함께 제공하는 기본적인 함수\n",
        "  + print(), type()\n",
        "\n",
        "- 라이브러리에서 제공하는 함수\n",
        "  + 목적이 분명\n",
        "    - 웹사이트 개발 : 웹사이트와 관련된 라이브러리를 별도 설치 필요\n",
        "    - 통계분석 :"
      ],
      "metadata": {
        "id": "YQGwxXcvzxmG"
      }
    },
    {
      "cell_type": "code",
      "source": [
        "print(type(3))"
      ],
      "metadata": {
        "colab": {
          "base_uri": "https://localhost:8080/"
        },
        "id": "hBwO6eSYueqN",
        "outputId": "87c9c4c0-6277-4511-ba18-1406093e51c9"
      },
      "execution_count": 22,
      "outputs": [
        {
          "output_type": "stream",
          "name": "stdout",
          "text": [
            "<class 'int'>\n"
          ]
        }
      ]
    },
    {
      "cell_type": "code",
      "source": [
        "print(type(3.5))"
      ],
      "metadata": {
        "colab": {
          "base_uri": "https://localhost:8080/"
        },
        "id": "QZ81toN3u30r",
        "outputId": "f167c801-0b95-4b3d-b009-65edaed472ba"
      },
      "execution_count": 23,
      "outputs": [
        {
          "output_type": "stream",
          "name": "stdout",
          "text": [
            "<class 'float'>\n"
          ]
        }
      ]
    },
    {
      "cell_type": "markdown",
      "source": [
        "- 파이썬은 객체지향 언어\n",
        "\n"
      ],
      "metadata": {
        "id": "SK8h6bkC1zAe"
      }
    },
    {
      "cell_type": "markdown",
      "source": [
        "## 거듭 제곱과 나머지\n",
        "- 숫자 A를 n번 곱하는 거듭제곱(Power)\n",
        "  + A는 밑, n을 지수라고 표현"
      ],
      "metadata": {
        "id": "KsaD65xh2C9W"
      }
    },
    {
      "cell_type": "code",
      "source": [
        "2*2*2*2*2\n",
        "2 ** 5 # 거듭제곱"
      ],
      "metadata": {
        "id": "uMcVgHwn2VQD"
      },
      "execution_count": null,
      "outputs": []
    },
    {
      "cell_type": "markdown",
      "source": [
        "- 나머지를 구하는 방법"
      ],
      "metadata": {
        "id": "Hb0LrA4Q22B6"
      }
    },
    {
      "cell_type": "code",
      "source": [
        "# 몫을 구하고 싶음 ()\n",
        "13 // 5"
      ],
      "metadata": {
        "id": "cCAkH38k27uo"
      },
      "execution_count": null,
      "outputs": []
    },
    {
      "cell_type": "markdown",
      "source": [
        "교재 3-1(p34), 산술연산자 표 정리"
      ],
      "metadata": {
        "id": "FSm1MCJc3PCw"
      }
    },
    {
      "cell_type": "markdown",
      "source": [
        "## 과학적 표기법\n",
        "- 아주 큰 수, 작은 수를 다뤄야 하는 케이스\n",
        "  + 빛은 초당 30만 km\n",
        "  + 단위를 m/s 표현하면, 300,000,000m/s\n",
        "  + 3x10^8"
      ],
      "metadata": {
        "id": "5xxpHKQ43oe8"
      }
    },
    {
      "cell_type": "code",
      "source": [
        "3*10**8"
      ],
      "metadata": {
        "colab": {
          "base_uri": "https://localhost:8080/"
        },
        "id": "D04qvxE84TWE",
        "outputId": "8992299b-4c27-4b7f-e642-d2c8f10f70a5"
      },
      "execution_count": 24,
      "outputs": [
        {
          "output_type": "execute_result",
          "data": {
            "text/plain": [
              "300000000"
            ]
          },
          "metadata": {},
          "execution_count": 24
        }
      ]
    },
    {
      "cell_type": "code",
      "source": [
        "3e8"
      ],
      "metadata": {
        "colab": {
          "base_uri": "https://localhost:8080/"
        },
        "id": "oStzsR6Z4XEr",
        "outputId": "48956b3e-e6ea-4bb5-c498-08e2c2ca1b24"
      },
      "execution_count": 26,
      "outputs": [
        {
          "output_type": "execute_result",
          "data": {
            "text/plain": [
              "300000000.0"
            ]
          },
          "metadata": {},
          "execution_count": 26
        }
      ]
    },
    {
      "cell_type": "code",
      "source": [
        "3e-4"
      ],
      "metadata": {
        "colab": {
          "base_uri": "https://localhost:8080/"
        },
        "id": "AJMmf12b4xW8",
        "outputId": "96415e50-7cb4-43de-82c1-6838d5be65f3"
      },
      "execution_count": 27,
      "outputs": [
        {
          "output_type": "execute_result",
          "data": {
            "text/plain": [
              "0.0003"
            ]
          },
          "metadata": {},
          "execution_count": 27
        }
      ]
    },
    {
      "cell_type": "code",
      "source": [
        "1e-4"
      ],
      "metadata": {
        "colab": {
          "base_uri": "https://localhost:8080/"
        },
        "id": "zmO_Hso64ysW",
        "outputId": "3a437a9d-d0a8-40e5-fd35-0b7ba633de42"
      },
      "execution_count": 28,
      "outputs": [
        {
          "output_type": "execute_result",
          "data": {
            "text/plain": [
              "0.0001"
            ]
          },
          "metadata": {},
          "execution_count": 28
        }
      ]
    },
    {
      "cell_type": "markdown",
      "source": [
        "## 진수 표현과 변환\n",
        "- 일상생활에서는 10진법\n",
        "- 60진법: 60초 1분, 60분이 1시간\n",
        "- 12진법: 오전 12시간, 오후 12시간\n",
        "- 컴퓨터 프로그래밍, 숫자 0과 1로 이루어진 2진법\n",
        "- 8진법: 0~7까지의 숫자\n",
        "- 16진법: 0~9,a,b,c,d,e,f\n",
        "- 메서드\n",
        "  + bin() : 10진수를 2진수로\n",
        "  + oct() : 10진수를 8진수로\n",
        "  + hex() : 10진수를 16진수로"
      ],
      "metadata": {
        "id": "7k_u9OXo5V-g"
      }
    },
    {
      "cell_type": "code",
      "source": [
        "17 # 10진법"
      ],
      "metadata": {
        "id": "DasIqG6c6NEd"
      },
      "execution_count": null,
      "outputs": []
    },
    {
      "cell_type": "markdown",
      "source": [
        "## 논리 연산 및 비교 연산\n",
        "- 참/거짓\n",
        "- 논리 연산을 잘 활용하는 것이 프로그래밍의 핵심"
      ],
      "metadata": {
        "id": "Gc-iW9RN7LsT"
      }
    },
    {
      "cell_type": "code",
      "source": [
        "print(True)"
      ],
      "metadata": {
        "colab": {
          "base_uri": "https://localhost:8080/"
        },
        "id": "nBuYv_Ej776n",
        "outputId": "6c718e73-29a9-449b-c151-db1f5f84c89c"
      },
      "execution_count": 29,
      "outputs": [
        {
          "output_type": "stream",
          "name": "stdout",
          "text": [
            "True\n"
          ]
        }
      ]
    },
    {
      "cell_type": "code",
      "source": [
        "print(False)"
      ],
      "metadata": {
        "colab": {
          "base_uri": "https://localhost:8080/"
        },
        "id": "3SNKC37f791U",
        "outputId": "0fe569a1-6d53-4626-9b85-af2870bb4094"
      },
      "execution_count": 30,
      "outputs": [
        {
          "output_type": "stream",
          "name": "stdout",
          "text": [
            "False\n"
          ]
        }
      ]
    },
    {
      "cell_type": "code",
      "source": [
        "print(type(True))"
      ],
      "metadata": {
        "colab": {
          "base_uri": "https://localhost:8080/"
        },
        "id": "UyfbohB07-w5",
        "outputId": "1b638411-06cf-46ad-9b78-508251656b93"
      },
      "execution_count": 31,
      "outputs": [
        {
          "output_type": "execute_result",
          "data": {
            "text/plain": [
              "bool"
            ]
          },
          "metadata": {},
          "execution_count": 31
        }
      ]
    },
    {
      "cell_type": "markdown",
      "source": [
        "## 논리 연산자\n",
        "- and : A and B : A와 B 모두 참일 때 참\n",
        "\n",
        "- or : A or B : A와 B 중 하나라도 참이면, 참 둘 다 거짓일 때 거짓\n",
        "\n",
        "- not : not A : A가 참일 때 거짓, A가 거짓이면 참"
      ],
      "metadata": {
        "id": "cTYPpJAy8VCL"
      }
    },
    {
      "cell_type": "code",
      "source": [
        "# 교집합\n",
        "# True 또는 False 결과가 나오도록 조건식을 만들어야 함\n",
        "print(True and True)\n",
        "print(True and False)\n",
        "print(False and True)\n",
        "print(False and False)"
      ],
      "metadata": {
        "colab": {
          "base_uri": "https://localhost:8080/"
        },
        "id": "sJ0dD3U0BSiK",
        "outputId": "49865f77-d6b3-4807-c2d8-9b11fbbb1afd"
      },
      "execution_count": 33,
      "outputs": [
        {
          "output_type": "stream",
          "name": "stdout",
          "text": [
            "True\n",
            "False\n",
            "False\n",
            "False\n"
          ]
        }
      ]
    },
    {
      "cell_type": "code",
      "source": [
        "# 합집합\n",
        "print(True or True)\n",
        "print(True or False)\n",
        "print(False or True)\n",
        "print(False or False)"
      ],
      "metadata": {
        "colab": {
          "base_uri": "https://localhost:8080/"
        },
        "id": "XKnd9SrcBqHY",
        "outputId": "c7530f3c-2dd4-443f-f430-c298ba68f771"
      },
      "execution_count": 34,
      "outputs": [
        {
          "output_type": "stream",
          "name": "stdout",
          "text": [
            "True\n",
            "True\n",
            "True\n",
            "False\n"
          ]
        }
      ]
    },
    {
      "cell_type": "code",
      "source": [
        "not False"
      ],
      "metadata": {
        "colab": {
          "base_uri": "https://localhost:8080/"
        },
        "id": "SzdeHsNsB_nt",
        "outputId": "fc2b2d93-200a-4fca-e44e-c86ac6f0a5ee"
      },
      "execution_count": 36,
      "outputs": [
        {
          "output_type": "execute_result",
          "data": {
            "text/plain": [
              "True"
            ]
          },
          "metadata": {},
          "execution_count": 36
        }
      ]
    },
    {
      "cell_type": "markdown",
      "source": [
        "### 비교연산자"
      ],
      "metadata": {
        "id": "FuZwouhwCZag"
      }
    },
    {
      "cell_type": "code",
      "source": [
        "1 == 1 # a와 b가 같다"
      ],
      "metadata": {
        "colab": {
          "base_uri": "https://localhost:8080/"
        },
        "id": "0X3du26xCcVX",
        "outputId": "eaac8048-3155-40ff-feb8-b83966ab280e"
      },
      "execution_count": 38,
      "outputs": [
        {
          "output_type": "execute_result",
          "data": {
            "text/plain": [
              "True"
            ]
          },
          "metadata": {},
          "execution_count": 38
        }
      ]
    },
    {
      "cell_type": "code",
      "source": [
        "1 != 2 # a와 b는 같지 않다"
      ],
      "metadata": {
        "colab": {
          "base_uri": "https://localhost:8080/"
        },
        "id": "OzDCpTNHDKEe",
        "outputId": "cbe2846f-47f6-4772-c997-9de5ce9c1646"
      },
      "execution_count": 39,
      "outputs": [
        {
          "output_type": "execute_result",
          "data": {
            "text/plain": [
              "True"
            ]
          },
          "metadata": {},
          "execution_count": 39
        }
      ]
    },
    {
      "cell_type": "code",
      "source": [
        "1 <= 2 # a는 b보다 작거나 같다"
      ],
      "metadata": {
        "colab": {
          "base_uri": "https://localhost:8080/"
        },
        "id": "7N6cvyuEDUKV",
        "outputId": "2e0a4188-4dd2-48f5-89b0-23bd36b29273"
      },
      "execution_count": 41,
      "outputs": [
        {
          "output_type": "execute_result",
          "data": {
            "text/plain": [
              "True"
            ]
          },
          "metadata": {},
          "execution_count": 41
        }
      ]
    },
    {
      "cell_type": "code",
      "source": [
        "1 < 2 # a가 b보다 작다"
      ],
      "metadata": {
        "colab": {
          "base_uri": "https://localhost:8080/"
        },
        "id": "oyR3HYbSDacw",
        "outputId": "89d3157b-46f9-47f1-8a4f-5907c54d7976"
      },
      "execution_count": 42,
      "outputs": [
        {
          "output_type": "execute_result",
          "data": {
            "text/plain": [
              "True"
            ]
          },
          "metadata": {},
          "execution_count": 42
        }
      ]
    },
    {
      "cell_type": "code",
      "source": [
        "1 >= 2 # a가 b보다 크거나 같다"
      ],
      "metadata": {
        "colab": {
          "base_uri": "https://localhost:8080/"
        },
        "id": "qUQaaOu5Ddoq",
        "outputId": "a444ffec-6dea-4f56-f697-a5e1c80f101f"
      },
      "execution_count": 44,
      "outputs": [
        {
          "output_type": "execute_result",
          "data": {
            "text/plain": [
              "False"
            ]
          },
          "metadata": {},
          "execution_count": 44
        }
      ]
    },
    {
      "cell_type": "code",
      "source": [
        "1 > 2 # a가 b보다 크다"
      ],
      "metadata": {
        "colab": {
          "base_uri": "https://localhost:8080/"
        },
        "id": "NPewGx8_Dp-1",
        "outputId": "e62d5efb-5fbc-4c9f-a274-0ac3ef2db2b3"
      },
      "execution_count": 45,
      "outputs": [
        {
          "output_type": "execute_result",
          "data": {
            "text/plain": [
              "False"
            ]
          },
          "metadata": {},
          "execution_count": 45
        }
      ]
    },
    {
      "cell_type": "markdown",
      "source": [
        "### 비교연산자 + 논리연산자"
      ],
      "metadata": {
        "id": "ZcanJ4OMEIQV"
      }
    },
    {
      "cell_type": "code",
      "source": [
        "1 > 0 and -2 < 0 # 비교연산자(1순위) 논리연산자(2순위)"
      ],
      "metadata": {
        "colab": {
          "base_uri": "https://localhost:8080/"
        },
        "id": "jGB7fiBhEOfC",
        "outputId": "e49696a9-3a0e-4925-caee-3973009a8088"
      },
      "execution_count": 48,
      "outputs": [
        {
          "output_type": "execute_result",
          "data": {
            "text/plain": [
              "True"
            ]
          },
          "metadata": {},
          "execution_count": 48
        }
      ]
    },
    {
      "cell_type": "code",
      "source": [
        "# 괄호안이 먼저 연산\n",
        "((3 < 0) and (-5 > 0)) and (1 > 5)"
      ],
      "metadata": {
        "colab": {
          "base_uri": "https://localhost:8080/"
        },
        "id": "AXmPayjEEbQ1",
        "outputId": "4a37a73f-9311-4e85-d5d8-dc9dd711e3d9"
      },
      "execution_count": 49,
      "outputs": [
        {
          "output_type": "execute_result",
          "data": {
            "text/plain": [
              "False"
            ]
          },
          "metadata": {},
          "execution_count": 49
        }
      ]
    },
    {
      "cell_type": "markdown",
      "source": [
        "# Chapter 4. 변수와 자료형"
      ],
      "metadata": {
        "id": "oTfLTwt_peei"
      }
    }
  ]
}